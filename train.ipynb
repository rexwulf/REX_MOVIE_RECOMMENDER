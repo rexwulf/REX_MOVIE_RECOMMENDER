{
 "cells": [
  {
   "cell_type": "code",
   "execution_count": 1,
   "metadata": {},
   "outputs": [
    {
     "name": "stdout",
     "output_type": "stream",
     "text": [
      "Yo! Loading data..\n",
      "Yo! Loaded. Creating table..\n",
      "Yo! applying mean..\n"
     ]
    },
    {
     "name": "stderr",
     "output_type": "stream",
     "text": [
      "100%|██████████| 3706/3706 [14:13<00:00,  4.65it/s]\n"
     ]
    }
   ],
   "source": [
    "import os\n",
    "import pandas as pd\n",
    "import numpy as np\n",
    "from scipy.spatial.distance import cosine    \n",
    "import re\n",
    "import sys\n",
    "from tqdm import tqdm #for progress_apply bar.\n",
    "tqdm.pandas()\n",
    "\n",
    "print(\"Loading data..\")\n",
    "df_ratings = pd.read_table('./data/ml-1M/ratings.dat',sep='::',engine='python', usecols=['userId','movieId','rating'])#pd.read_csv('../data/ml-10M/ratings.csv', usecols=['userId','movieId','rating'])\n",
    "\n",
    "N_movies = 3952 #max Id of movie\n",
    "N_users = len(df_ratings['userId'].unique())\n",
    "\n",
    "print(\"Creating table[user][movie] = rating..\")\n",
    "ratings = df_ratings.pivot_table(index='userId',columns='movieId',values='rating') #create a table[user][movie] = rating\n",
    "\n",
    "ratings.replace(np.nan, 0, inplace=True) #replace NaN with 0\n",
    "\n",
    "print(\"Applying mean..\")\n",
    "sys.stdout.flush()\n",
    "\n",
    "ratings = ratings.progress_apply(lambda x: x - ratings.mean(axis = 1)) #substract row mean from all elements: Pearson's corr"
   ]
  },
  {
   "cell_type": "code",
   "execution_count": 7,
   "metadata": {},
   "outputs": [
    {
     "name": "stdout",
     "output_type": "stream",
     "text": [
      "[100.00]\n"
     ]
    }
   ],
   "source": [
    "#create a table to compare cosine similarity of ith and jth movie \n",
    "item_cosine = np.zeros([N_movies+1, N_movies+1], dtype='f') \n",
    "\n",
    "count = 0\n",
    "total = N_movies*N_movies\n",
    "\n",
    "for m1 in movies:\n",
    "    for m2 in movies:\n",
    "        count += 1\n",
    "        item_cosine[m1][m2] = cosine(ratings[m1], ratings[m2])\n",
    "        print((\"[\"+str(round(float(count)*100/total,2))+\"]\"),end='\\r')     #progress tracker ,\n"
   ]
  },
  {
   "cell_type": "code",
   "execution_count": 6,
   "metadata": {},
   "outputs": [],
   "source": [
    "np.savez_compressed('./data/item_item_cosine_values.txt', a=item_cosine) #save to a text file"
   ]
  }
 ],
 "metadata": {
  "kernelspec": {
   "display_name": "Python 3",
   "language": "python",
   "name": "python3"
  },
  "language_info": {
   "codemirror_mode": {
    "name": "ipython",
    "version": 3
   },
   "file_extension": ".py",
   "mimetype": "text/x-python",
   "name": "python",
   "nbconvert_exporter": "python",
   "pygments_lexer": "ipython3",
   "version": "3.6.5"
  }
 },
 "nbformat": 4,
 "nbformat_minor": 2
}
